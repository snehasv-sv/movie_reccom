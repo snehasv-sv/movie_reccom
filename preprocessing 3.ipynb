{
 "cells": [
  {
   "metadata": {
    "_uuid": "8f2839f25d086af736a60e9eeb907d3b93b6e0e5",
    "_cell_guid": "b1076dfc-b9ad-4769-8c92-a6c4dae69d19",
    "trusted": true,
    "pycharm": {
     "is_executing": false
    }
   },
   "cell_type": "code",
   "source": [
    "import pandas as pd\n",
    "import numpy as np"
   ],
   "execution_count": 1,
   "outputs": []
  },
  {
   "metadata": {},
   "cell_type": "markdown",
   "source": [
    "## Extracting features of 2018 movies from Wikipedia"
   ]
  },
  {
   "metadata": {
    "_uuid": "d629ff2d2480ee46fbb7e2d37f6b5fab8052498a",
    "_cell_guid": "79c7e3d0-c299-4dcb-8224-4455121ee9b0",
    "trusted": true,
    "pycharm": {
     "is_executing": false
    }
   },
   "cell_type": "code",
   "source": [
    "link = \"https://en.wikipedia.org/wiki/List_of_American_films_of_2018\"\n",
    "df1 = pd.read_html(link, header=0)[2]\n",
    "df2 = pd.read_html(link, header=0)[3]\n",
    "df3 = pd.read_html(link, header=0)[4]\n",
    "df4 = pd.read_html(link, header=0)[5]"
   ],
   "execution_count": 2,
   "outputs": []
  },
  {
   "metadata": {
    "trusted": true,
    "pycharm": {
     "is_executing": false
    }
   },
   "cell_type": "code",
   "source": [
    "df = df1.append(df2.append(df3.append(df4,ignore_index=True),ignore_index=True),ignore_index=True)"
   ],
   "execution_count": 3,
   "outputs": []
  },
  {
   "metadata": {
    "trusted": true,
    "pycharm": {
     "is_executing": false
    }
   },
   "cell_type": "code",
   "source": [
    "df"
   ],
   "execution_count": 4,
   "outputs": [
    {
     "data": {
      "text/plain": "      Opening  Opening.1                       Title  \\\n0     JANUARY          5     Insidious: The Last Key   \n1     JANUARY          5            The Strange Ones   \n2     JANUARY          5                    Stratton   \n3     JANUARY         10               Sweet Country   \n4     JANUARY         12                The Commuter   \n..        ...        ...                         ...   \n265  DECEMBER         25             Holmes & Watson   \n266  DECEMBER         25                        Vice   \n267  DECEMBER         25         On the Basis of Sex   \n268  DECEMBER         25                   Destroyer   \n269  DECEMBER         28  Black Mirror: Bandersnatch   \n\n                                    Production company  \\\n0    Universal Pictures / Blumhouse Productions / S...   \n1                               Vertical Entertainment   \n2                                    Momentum Pictures   \n3                                 Samuel Goldwyn Films   \n4        Lionsgate / StudioCanal / The Picture Company   \n..                                                 ...   \n265       Columbia Pictures / Gary Sanchez Productions   \n266          Annapurna Pictures / Plan B Entertainment   \n267                                     Focus Features   \n268                                 Annapurna Pictures   \n269                                            Netflix   \n\n                                         Cast and crew   Ref.  \n0    Adam Robitel (director); Leigh Whannell (scree...    [2]  \n1    Lauren Wolkstein (director); Christopher Radcl...    [3]  \n2    Simon West (director); Duncan Falconer, Warren...    [4]  \n3    Warwick Thornton (director); David Tranter, St...    [5]  \n4    Jaume Collet-Serra (director); Byron Willinger...    [6]  \n..                                                 ...    ...  \n265  Etan Cohen (director/screenplay); Will Ferrell...  [163]  \n266  Adam McKay (director/screenplay); Christian Ba...  [137]  \n267  Mimi Leder (director); Daniel Stiepleman (scre...  [226]  \n268  Karyn Kusama (director); Phil Hay, Matt Manfre...  [258]  \n269  David Slade (director); Charlie Brooker (scree...  [259]  \n\n[270 rows x 6 columns]",
      "text/html": "<div>\n<style scoped>\n    .dataframe tbody tr th:only-of-type {\n        vertical-align: middle;\n    }\n\n    .dataframe tbody tr th {\n        vertical-align: top;\n    }\n\n    .dataframe thead th {\n        text-align: right;\n    }\n</style>\n<table border=\"1\" class=\"dataframe\">\n  <thead>\n    <tr style=\"text-align: right;\">\n      <th></th>\n      <th>Opening</th>\n      <th>Opening.1</th>\n      <th>Title</th>\n      <th>Production company</th>\n      <th>Cast and crew</th>\n      <th>Ref.</th>\n    </tr>\n  </thead>\n  <tbody>\n    <tr>\n      <th>0</th>\n      <td>JANUARY</td>\n      <td>5</td>\n      <td>Insidious: The Last Key</td>\n      <td>Universal Pictures / Blumhouse Productions / S...</td>\n      <td>Adam Robitel (director); Leigh Whannell (scree...</td>\n      <td>[2]</td>\n    </tr>\n    <tr>\n      <th>1</th>\n      <td>JANUARY</td>\n      <td>5</td>\n      <td>The Strange Ones</td>\n      <td>Vertical Entertainment</td>\n      <td>Lauren Wolkstein (director); Christopher Radcl...</td>\n      <td>[3]</td>\n    </tr>\n    <tr>\n      <th>2</th>\n      <td>JANUARY</td>\n      <td>5</td>\n      <td>Stratton</td>\n      <td>Momentum Pictures</td>\n      <td>Simon West (director); Duncan Falconer, Warren...</td>\n      <td>[4]</td>\n    </tr>\n    <tr>\n      <th>3</th>\n      <td>JANUARY</td>\n      <td>10</td>\n      <td>Sweet Country</td>\n      <td>Samuel Goldwyn Films</td>\n      <td>Warwick Thornton (director); David Tranter, St...</td>\n      <td>[5]</td>\n    </tr>\n    <tr>\n      <th>4</th>\n      <td>JANUARY</td>\n      <td>12</td>\n      <td>The Commuter</td>\n      <td>Lionsgate / StudioCanal / The Picture Company</td>\n      <td>Jaume Collet-Serra (director); Byron Willinger...</td>\n      <td>[6]</td>\n    </tr>\n    <tr>\n      <th>...</th>\n      <td>...</td>\n      <td>...</td>\n      <td>...</td>\n      <td>...</td>\n      <td>...</td>\n      <td>...</td>\n    </tr>\n    <tr>\n      <th>265</th>\n      <td>DECEMBER</td>\n      <td>25</td>\n      <td>Holmes &amp; Watson</td>\n      <td>Columbia Pictures / Gary Sanchez Productions</td>\n      <td>Etan Cohen (director/screenplay); Will Ferrell...</td>\n      <td>[163]</td>\n    </tr>\n    <tr>\n      <th>266</th>\n      <td>DECEMBER</td>\n      <td>25</td>\n      <td>Vice</td>\n      <td>Annapurna Pictures / Plan B Entertainment</td>\n      <td>Adam McKay (director/screenplay); Christian Ba...</td>\n      <td>[137]</td>\n    </tr>\n    <tr>\n      <th>267</th>\n      <td>DECEMBER</td>\n      <td>25</td>\n      <td>On the Basis of Sex</td>\n      <td>Focus Features</td>\n      <td>Mimi Leder (director); Daniel Stiepleman (scre...</td>\n      <td>[226]</td>\n    </tr>\n    <tr>\n      <th>268</th>\n      <td>DECEMBER</td>\n      <td>25</td>\n      <td>Destroyer</td>\n      <td>Annapurna Pictures</td>\n      <td>Karyn Kusama (director); Phil Hay, Matt Manfre...</td>\n      <td>[258]</td>\n    </tr>\n    <tr>\n      <th>269</th>\n      <td>DECEMBER</td>\n      <td>28</td>\n      <td>Black Mirror: Bandersnatch</td>\n      <td>Netflix</td>\n      <td>David Slade (director); Charlie Brooker (scree...</td>\n      <td>[259]</td>\n    </tr>\n  </tbody>\n</table>\n<p>270 rows × 6 columns</p>\n</div>"
     },
     "metadata": {},
     "output_type": "execute_result",
     "execution_count": 4
    }
   ]
  },
  {
   "metadata": {
    "trusted": true,
    "pycharm": {
     "is_executing": false
    }
   },
   "cell_type": "code",
   "source": [
    "!pip install tmdbv3api"
   ],
   "execution_count": 5,
   "outputs": [
    {
     "name": "stdout",
     "text": [
      "Requirement already satisfied: tmdbv3api in c:\\python39\\lib\\site-packages (1.7.5)\n",
      "Requirement already satisfied: requests in c:\\python39\\lib\\site-packages (from tmdbv3api) (2.25.1)\n",
      "Requirement already satisfied: chardet<5,>=3.0.2 in c:\\python39\\lib\\site-packages (from requests->tmdbv3api) (4.0.0)\n",
      "Requirement already satisfied: urllib3<1.27,>=1.21.1 in c:\\python39\\lib\\site-packages (from requests->tmdbv3api) (1.26.3)\n",
      "Requirement already satisfied: idna<3,>=2.5 in c:\\python39\\lib\\site-packages (from requests->tmdbv3api) (2.10)\n",
      "Requirement already satisfied: certifi>=2017.4.17 in c:\\python39\\lib\\site-packages (from requests->tmdbv3api) (2020.12.5)\n"
     ],
     "output_type": "stream"
    },
    {
     "name": "stderr",
     "text": [
      "WARNING: You are using pip version 20.2.3; however, version 21.0.1 is available.\n",
      "You should consider upgrading via the 'c:\\python39\\python.exe -m pip install --upgrade pip' command.\n"
     ],
     "output_type": "stream"
    }
   ]
  },
  {
   "metadata": {
    "trusted": true,
    "pycharm": {
     "is_executing": false
    }
   },
   "cell_type": "code",
   "source": [
    "from tmdbv3api import TMDb\n",
    "import json\n",
    "import requests\n",
    "tmdb = TMDb()\n",
    "tmdb.api_key = 'dddddfda50bd432b0b1b65b2a99137e9'"
   ],
   "execution_count": 9,
   "outputs": []
  },
  {
   "metadata": {
    "trusted": true,
    "pycharm": {
     "is_executing": false
    }
   },
   "cell_type": "code",
   "source": "from tmdbv3api import Movie\ntmdb_movie = Movie()\ndef get_genre(x):\n    genres = []\n    result = tmdb_movie.search(x)\n    movie_id = result[0].id\n    response = requests.get('https://api.themoviedb.org/3/movie/{}?api_key={}'.format(movie_id,tmdb.api_key))\n    data_json = response.json()\n    if data_json['genres']:\n        genre_str = \" \" \n        for i in range(0,len(data_json['genres'])):\n            genres.append(data_json['genres'][i]['name'])\n        return genre_str.join(genres)\n    else:\n        np.NaN",
   "execution_count": 10,
   "outputs": []
  },
  {
   "metadata": {
    "trusted": true,
    "pycharm": {
     "is_executing": false
    }
   },
   "cell_type": "code",
   "source": "df['genres'] = df['Title'].map(lambda x: get_genre(str(x)))",
   "execution_count": 12,
   "outputs": []
  },
  {
   "metadata": {
    "trusted": true,
    "pycharm": {
     "is_executing": false
    }
   },
   "cell_type": "code",
   "source": "df",
   "execution_count": null,
   "outputs": []
  },
  {
   "metadata": {
    "trusted": true,
    "pycharm": {
     "is_executing": false
    }
   },
   "cell_type": "code",
   "source": "df_2018 = df[['Title','Cast and crew','genres']]",
   "execution_count": null,
   "outputs": []
  },
  {
   "metadata": {
    "trusted": true,
    "pycharm": {
     "is_executing": false
    }
   },
   "cell_type": "code",
   "source": "df_2018",
   "execution_count": null,
   "outputs": []
  },
  {
   "metadata": {
    "trusted": true,
    "pycharm": {
     "is_executing": false
    }
   },
   "cell_type": "code",
   "source": "def get_director(x):\n    if \" (director)\" in x:\n        return x.split(\" (director)\")[0]\n    elif \" (directors)\" in x:\n        return x.split(\" (directors)\")[0]\n    else:\n        return x.split(\" (director/screenplay)\")[0]",
   "execution_count": null,
   "outputs": []
  },
  {
   "metadata": {
    "trusted": true,
    "pycharm": {
     "is_executing": false
    }
   },
   "cell_type": "code",
   "source": "df_2018['director_name'] = df_2018['Cast and crew'].map(lambda x: get_director(x))",
   "execution_count": null,
   "outputs": []
  },
  {
   "metadata": {
    "trusted": true,
    "pycharm": {
     "is_executing": false
    }
   },
   "cell_type": "code",
   "source": "def get_actor1(x):\n    return ((x.split(\"screenplay); \")[-1]).split(\", \")[0])",
   "execution_count": null,
   "outputs": []
  },
  {
   "metadata": {
    "trusted": true,
    "pycharm": {
     "is_executing": false
    }
   },
   "cell_type": "code",
   "source": "df_2018['actor_1_name'] = df_2018['Cast and crew'].map(lambda x: get_actor1(x))",
   "execution_count": null,
   "outputs": []
  },
  {
   "metadata": {
    "trusted": true,
    "pycharm": {
     "is_executing": false
    }
   },
   "cell_type": "code",
   "source": "def get_actor2(x):\n    if len((x.split(\"screenplay); \")[-1]).split(\", \")) < 2:\n        return np.NaN\n    else:\n        return ((x.split(\"screenplay); \")[-1]).split(\", \")[1])",
   "execution_count": null,
   "outputs": []
  },
  {
   "metadata": {
    "trusted": true,
    "pycharm": {
     "is_executing": false
    }
   },
   "cell_type": "code",
   "source": "df_2018['actor_2_name'] = df_2018['Cast and crew'].map(lambda x: get_actor2(x))",
   "execution_count": null,
   "outputs": []
  },
  {
   "metadata": {
    "trusted": true,
    "pycharm": {
     "is_executing": false
    }
   },
   "cell_type": "code",
   "source": "def get_actor3(x):\n    if len((x.split(\"screenplay); \")[-1]).split(\", \")) < 3:\n        return np.NaN\n    else:\n        return ((x.split(\"screenplay); \")[-1]).split(\", \")[2])",
   "execution_count": null,
   "outputs": []
  },
  {
   "metadata": {
    "trusted": true,
    "pycharm": {
     "is_executing": false
    }
   },
   "cell_type": "code",
   "source": "df_2018['actor_3_name'] = df_2018['Cast and crew'].map(lambda x: get_actor3(x))",
   "execution_count": null,
   "outputs": []
  },
  {
   "metadata": {
    "trusted": true,
    "pycharm": {
     "is_executing": false
    }
   },
   "cell_type": "code",
   "source": "df_2018",
   "execution_count": null,
   "outputs": []
  },
  {
   "metadata": {
    "trusted": true,
    "pycharm": {
     "is_executing": false
    }
   },
   "cell_type": "code",
   "source": "\ndf_2018 = df_2018.rename(columns={'Title':'movie_title'})",
   "execution_count": null,
   "outputs": []
  },
  {
   "metadata": {
    "trusted": true,
    "pycharm": {
     "is_executing": false
    }
   },
   "cell_type": "code",
   "source": "new_df18 = df_2018.loc[:,['director_name','actor_1_name','actor_2_name','actor_3_name','genres','movie_title']]",
   "execution_count": null,
   "outputs": []
  },
  {
   "metadata": {
    "trusted": true,
    "pycharm": {
     "is_executing": false
    }
   },
   "cell_type": "code",
   "source": "new_df18",
   "execution_count": null,
   "outputs": []
  },
  {
   "metadata": {
    "trusted": true,
    "pycharm": {
     "is_executing": false
    }
   },
   "cell_type": "code",
   "source": "new_df18['actor_2_name'] = new_df18['actor_2_name'].replace(np.nan, 'unknown')\nnew_df18['actor_3_name'] = new_df18['actor_3_name'].replace(np.nan, 'unknown')",
   "execution_count": null,
   "outputs": []
  },
  {
   "metadata": {
    "trusted": true,
    "pycharm": {
     "is_executing": false
    }
   },
   "cell_type": "code",
   "source": "new_df18['movie_title'] = new_df18['movie_title'].str.lower()",
   "execution_count": null,
   "outputs": []
  },
  {
   "metadata": {
    "trusted": true,
    "pycharm": {
     "is_executing": false
    }
   },
   "cell_type": "code",
   "source": "new_df18['comb'] = new_df18['actor_1_name'] + ' ' + new_df18['actor_2_name'] + ' '+ new_df18['actor_3_name'] + ' '+ new_df18['director_name'] +' ' + new_df18['genres']",
   "execution_count": null,
   "outputs": []
  },
  {
   "metadata": {
    "trusted": true,
    "pycharm": {
     "is_executing": false
    }
   },
   "cell_type": "code",
   "source": "new_df18",
   "execution_count": null,
   "outputs": []
  },
  {
   "metadata": {},
   "cell_type": "markdown",
   "source": "## Extracting features of 2019 movies from Wikipedia"
  },
  {
   "metadata": {
    "trusted": true,
    "pycharm": {
     "is_executing": false
    }
   },
   "cell_type": "code",
   "source": "link = \"https://en.wikipedia.org/wiki/List_of_American_films_of_2019\"\ndf1 = pd.read_html(link, header=0)[3]\ndf2 = pd.read_html(link, header=0)[4]\ndf3 = pd.read_html(link, header=0)[5]\ndf4 = pd.read_html(link, header=0)[6]",
   "execution_count": null,
   "outputs": []
  },
  {
   "metadata": {
    "trusted": true,
    "pycharm": {
     "is_executing": false
    }
   },
   "cell_type": "code",
   "source": "df = df1.append(df2.append(df3.append(df4,ignore_index=True),ignore_index=True),ignore_index=True)",
   "execution_count": null,
   "outputs": []
  },
  {
   "metadata": {
    "trusted": true,
    "pycharm": {
     "is_executing": false
    }
   },
   "cell_type": "code",
   "source": "df",
   "execution_count": null,
   "outputs": []
  },
  {
   "metadata": {
    "trusted": true,
    "pycharm": {
     "is_executing": false
    }
   },
   "cell_type": "code",
   "source": "df['genres'] = df['Title'].map(lambda x: get_genre(str(x)))",
   "execution_count": null,
   "outputs": []
  },
  {
   "metadata": {
    "trusted": true,
    "pycharm": {
     "is_executing": false
    }
   },
   "cell_type": "code",
   "source": "df_2019 = df[['Title','Cast and crew','genres']]",
   "execution_count": null,
   "outputs": []
  },
  {
   "metadata": {
    "trusted": true,
    "pycharm": {
     "is_executing": false
    }
   },
   "cell_type": "code",
   "source": "df_2019",
   "execution_count": null,
   "outputs": []
  },
  {
   "metadata": {
    "trusted": true,
    "pycharm": {
     "is_executing": false
    }
   },
   "cell_type": "code",
   "source": "df_2019['director_name'] = df_2019['Cast and crew'].map(lambda x: get_director(str(x)))",
   "execution_count": null,
   "outputs": []
  },
  {
   "metadata": {
    "trusted": true,
    "pycharm": {
     "is_executing": false
    }
   },
   "cell_type": "code",
   "source": "df_2019['actor_1_name'] = df_2019['Cast and crew'].map(lambda x: get_actor1(x))",
   "execution_count": null,
   "outputs": []
  },
  {
   "metadata": {
    "trusted": true,
    "pycharm": {
     "is_executing": false
    }
   },
   "cell_type": "code",
   "source": "df_2019['actor_2_name'] = df_2019['Cast and crew'].map(lambda x: get_actor2(x))",
   "execution_count": null,
   "outputs": []
  },
  {
   "metadata": {
    "trusted": true,
    "pycharm": {
     "is_executing": false
    }
   },
   "cell_type": "code",
   "source": "df_2019['actor_3_name'] = df_2019['Cast and crew'].map(lambda x: get_actor3(x))",
   "execution_count": null,
   "outputs": []
  },
  {
   "metadata": {
    "trusted": true,
    "pycharm": {
     "is_executing": false
    }
   },
   "cell_type": "code",
   "source": "df_2019 = df_2019.rename(columns={'Title':'movie_title'})",
   "execution_count": null,
   "outputs": []
  },
  {
   "metadata": {
    "trusted": true,
    "pycharm": {
     "is_executing": false
    }
   },
   "cell_type": "code",
   "source": "new_df19 = df_2019.loc[:,['director_name','actor_1_name','actor_2_name','actor_3_name','genres','movie_title']]",
   "execution_count": null,
   "outputs": []
  },
  {
   "metadata": {
    "trusted": true,
    "pycharm": {
     "is_executing": false
    }
   },
   "cell_type": "code",
   "source": "\nnew_df19['actor_2_name'] = new_df19['actor_2_name'].replace(np.nan, 'unknown')\nnew_df19['actor_3_name'] = new_df19['actor_3_name'].replace(np.nan, 'unknown')",
   "execution_count": null,
   "outputs": []
  },
  {
   "metadata": {
    "trusted": true,
    "pycharm": {
     "is_executing": false
    }
   },
   "cell_type": "code",
   "source": "new_df19['movie_title'] = new_df19['movie_title'].str.lower()",
   "execution_count": null,
   "outputs": []
  },
  {
   "metadata": {
    "trusted": true,
    "pycharm": {
     "is_executing": false
    }
   },
   "cell_type": "code",
   "source": "new_df19['comb'] = new_df19['actor_1_name'] + ' ' + new_df19['actor_2_name'] + ' '+ new_df19['actor_3_name'] + ' '+ new_df19['director_name'] +' ' + new_df19['genres']",
   "execution_count": null,
   "outputs": []
  },
  {
   "metadata": {
    "trusted": true,
    "pycharm": {
     "is_executing": false
    }
   },
   "cell_type": "code",
   "source": "new_df19",
   "execution_count": null,
   "outputs": []
  },
  {
   "metadata": {
    "trusted": true,
    "pycharm": {
     "is_executing": false
    }
   },
   "cell_type": "code",
   "source": "my_df = new_df18.append(new_df19,ignore_index=True)",
   "execution_count": null,
   "outputs": []
  },
  {
   "metadata": {
    "trusted": true,
    "pycharm": {
     "is_executing": false
    }
   },
   "cell_type": "code",
   "source": "my_df",
   "execution_count": null,
   "outputs": []
  },
  {
   "metadata": {
    "trusted": true,
    "pycharm": {
     "is_executing": false
    }
   },
   "cell_type": "code",
   "source": "old_df = pd.read_csv('../input/movie.csv')",
   "execution_count": null,
   "outputs": []
  },
  {
   "metadata": {
    "trusted": true,
    "pycharm": {
     "is_executing": false
    }
   },
   "cell_type": "code",
   "source": "old_df",
   "execution_count": null,
   "outputs": []
  },
  {
   "metadata": {
    "trusted": true,
    "pycharm": {
     "is_executing": false
    }
   },
   "cell_type": "code",
   "source": "final_df = old_df.append(my_df,ignore_index=True)",
   "execution_count": null,
   "outputs": []
  },
  {
   "metadata": {
    "trusted": true,
    "pycharm": {
     "is_executing": false
    }
   },
   "cell_type": "code",
   "source": "final_df",
   "execution_count": null,
   "outputs": []
  },
  {
   "metadata": {
    "trusted": true,
    "pycharm": {
     "is_executing": false
    }
   },
   "cell_type": "code",
   "source": "final_df.isna().sum()",
   "execution_count": null,
   "outputs": []
  },
  {
   "metadata": {
    "trusted": true,
    "pycharm": {
     "is_executing": false
    }
   },
   "cell_type": "code",
   "source": "final_df = final_df.dropna(how='any')",
   "execution_count": null,
   "outputs": []
  },
  {
   "metadata": {
    "trusted": true,
    "pycharm": {
     "is_executing": false
    }
   },
   "cell_type": "code",
   "source": "final_df.to_csv('final_data.csv',index=False)",
   "execution_count": null,
   "outputs": []
  }
 ],
 "metadata": {
  "kernelspec": {
   "name": "python3",
   "display_name": "Python 3",
   "language": "python"
  },
  "language_info": {
   "name": "python",
   "version": "3.7.6",
   "mimetype": "text/x-python",
   "codemirror_mode": {
    "name": "ipython",
    "version": 3
   },
   "pygments_lexer": "ipython3",
   "nbconvert_exporter": "python",
   "file_extension": ".py"
  },
  "pycharm": {
   "stem_cell": {
    "cell_type": "raw",
    "source": [],
    "metadata": {
     "collapsed": false
    }
   }
  }
 },
 "nbformat": 4,
 "nbformat_minor": 4
}